{
 "cells": [
  {
   "cell_type": "code",
   "execution_count": null,
   "metadata": {
    "collapsed": true
   },
   "outputs": [],
   "source": [
    "#-*- coding : utf-8 -*-"
   ]
  },
  {
   "cell_type": "markdown",
   "source": [
    "# HTML Webprogramming 웹 프프로그래밍\n",
    "---\n",
    "## 제6장 HTML에서 입력양식\n",
    "### 6.1 form 태그\n",
    "### 6.2 input 태그\n",
    "### 6.3 textarea 태그 및 select 태그\n",
    "---"
   ],
   "metadata": {
    "collapsed": false
   }
  },
  {
   "cell_type": "markdown",
   "source": [
    "### 6.1 form 태그\n",
    "- form : 사용자로부터 다양한 형태의 데이터를 입력받기 위해 필요한 입력 요소들을 담는 컨테이너\n",
    "    - action = \"URL\"\n",
    "        - 데이터를 받아 처리할 페이지의 URL을 지정\n",
    "    - method = \"전송방식\"\n",
    "        - get, post\n",
    "    - name : 폼 이름\n",
    "    - accpet-charset : 문자 인코딩 \n",
    "    - autocomplete\n",
    "    - enctype\n",
    "    - novalidate\n",
    "    - target\n",
    "\n",
    "- method 속성값\n",
    "<table>\n",
    "    <tr>\n",
    "        <th></th>\n",
    "        <th>mehhod=\"get\"</th>\n",
    "        <th>mehhod=\"post\"</th>\n",
    "    </tr>\n",
    "    <tr>\n",
    "        <td>전송형태</td>\n",
    "        <td>\n",
    "            <ul>\n",
    "                <li>기본값, 폼 데이터가 이름과 값의 쌍형태로 URL에 포함되어 전송</li>\n",
    "                <li>\"URL?name=value&name=value\"</li>\n",
    "            </ul>\n",
    "        </td>\n",
    "        <td>\n",
    "            <ul>\n",
    "                <li>HTTP Request 헤더 속에 포함시켜 전송</li>\n",
    "            <ul>\n",
    "        </td>\n",
    "    </tr>\n",
    "    <tr>\n",
    "        <td>데이터 길이</td>\n",
    "        <td>\n",
    "            <ul>\n",
    "                <li>최대 2048 자(4096byte)</li>\n",
    "            </ul>\n",
    "        </td>\n",
    "        <td>\n",
    "            <ul>\n",
    "                <li>제약없음</li>\n",
    "            </ul> \n",
    "        </td>\n",
    "    </tr>\n",
    "    <tr>\n",
    "        <td>보안</td>\n",
    "        <td>\n",
    "            <ul>\n",
    "                <li>보안이 중요하지 않은 데이터 전달에 사용</li>\n",
    "                <li>이전 페이지 버튼을 통한 이동 가능</li>\n",
    "            </ul>\n",
    "        </td>\n",
    "        <td>\n",
    "            <ul>\n",
    "                <li>보안이 필요한 로그인 정보 및 회원 정보 등의 전송에 사용</li>\n",
    "                <li>이전 페이지 버튼을 누르면 데이터를 다시 보내야 하는 경고 표시</li>\n",
    "            </ul>\n",
    "        </td>\n",
    "    </tr>\n",
    "</table>\n",
    "\n",
    "### 6.2 input 태그\n",
    "- 용자가 데이터를 입력할 수 있는 입력 타입을 지정\n",
    "- 종료 태그 없음\n",
    "- 속성 \n",
    "\n",
    "#### 6.2.1 기존에 사용했던 입력 타입\n",
    "\n",
    "##### (1) 텍스트 타입과 비밀번호 타입\n",
    "- type=\"text\" : 한 줄 짜리 짧은 텍스트를 입력\n",
    "- type=\"password\" : '.'으로 대체\n",
    "- autofocus : 페이지가 로딩될 때 입력 타입에 자동으로 포커스를 지정\n",
    "- name :\n",
    "- size :\n",
    "- maxlength\n",
    "- value : 초기값\n",
    "- disabled : 비활성화 \n",
    "- placeholder : 참조문자열\n",
    " \n",
    "##### (2) 라디오 버튼과 체크 박스\n",
    "- type = \"radio\" : 같은 그룹의 항목들에서 배타적 선택\n",
    "- type = \"checkbox\" : 여러 개의 항목의 동시 선택 가능\n",
    "- name : 이름이 같아야 동일 그룹\n",
    "- value : 서버로 전달되는 값\n",
    "- checked : 기본값\n",
    " \n",
    "#### 6.2.2 HTML5에 추가된 입력 타입\n",
    "\n",
    "\n",
    "### 6.3 textarea 태그 및 select 태그\n",
    "\n",
    "#### 6.3.1 textrarea\n",
    "\n",
    "#### 6.3.2 select"
   ],
   "metadata": {
    "collapsed": false
   }
  }
 ],
 "metadata": {
  "kernelspec": {
   "display_name": "Python 3",
   "language": "python",
   "name": "python3"
  },
  "language_info": {
   "codemirror_mode": {
    "name": "ipython",
    "version": 2
   },
   "file_extension": ".py",
   "mimetype": "text/x-python",
   "name": "python",
   "nbconvert_exporter": "python",
   "pygments_lexer": "ipython2",
   "version": "2.7.6"
  },
  "pycharm": {
   "stem_cell": {
    "cell_type": "raw",
    "source": [],
    "metadata": {
     "collapsed": false
    }
   }
  }
 },
 "nbformat": 4,
 "nbformat_minor": 0
}