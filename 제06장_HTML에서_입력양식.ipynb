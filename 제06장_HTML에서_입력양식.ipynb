{
 "cells": [
  {
   "cell_type": "code",
   "execution_count": null,
   "metadata": {
    "collapsed": true
   },
   "outputs": [],
   "source": [
    "#-*- coding : utf-8 -*-"
   ]
  },
  {
   "cell_type": "markdown",
   "source": [
    "# HTML Webprogramming 웹 프프로그래밍\n",
    "---\n",
    "## 제6장 HTML에서 입력양식\n",
    "### 6.1 form 태그\n",
    "### 6.2 input 태그\n",
    "### 6.3 textarea 태그 및 select 태그\n",
    "---"
   ],
   "metadata": {
    "collapsed": false
   }
  },
  {
   "cell_type": "markdown",
   "source": [
    "### 6.1 form 태그\n",
    "- form : 사용자로부터 다양한 형태의 데이터를 입력받기 위해 필요한 입력 요소들을 담는 컨테이너\n",
    "    - action = \"URL\"\n",
    "        - 데이터를 받아 처리할 페이지의 URL을 지정\n",
    "    - method = \"전송방식\"\n",
    "        - get, post\n",
    "    - name : 폼 이름\n",
    "    - accpet-charset : 문자 인코딩 \n",
    "    - autocomplete\n",
    "    - enctype\n",
    "    - novalidate\n",
    "    - target\n",
    "    "
   ],
   "metadata": {
    "collapsed": false,
    "pycharm": {
     "name": "#%% md\n"
    }
   }
  },
  {
   "cell_type": "markdown",
   "source": [
    "- method 속성값\n",
    "<table>\n",
    "    <tr>\n",
    "        <th></th>\n",
    "        <th>mehhod=\"get\"</th>\n",
    "        <th>mehhod=\"post\"</th>\n",
    "    </tr>\n",
    "    <tr>\n",
    "        <td>전송형태</td>\n",
    "        <td>\n",
    "            <ul>\n",
    "                <li>기본값, 폼 데이터가 이름과 값의 쌍형태로 URL에 포함되어 전송</li>\n",
    "                <li>\"URL?name=value&name=value\"</li>\n",
    "            </ul>\n",
    "        </td>\n",
    "        <td>\n",
    "            <ul>\n",
    "                <li>HTTP Request 헤더 속에 포함시켜 전송</li>\n",
    "            <ul>\n",
    "        </td>\n",
    "    </tr>\n",
    "    <tr>\n",
    "        <td>데이터 길이</td>\n",
    "        <td>\n",
    "            <ul>\n",
    "                <li>최대 2048 자(4096byte)</li>\n",
    "            </ul>\n",
    "        </td>\n",
    "        <td>\n",
    "            <ul>\n",
    "                <li>제약없음</li>\n",
    "            </ul> \n",
    "        </td>\n",
    "    </tr>\n",
    "    <tr>\n",
    "        <td>보안</td>\n",
    "        <td>\n",
    "            <ul>\n",
    "                <li>보안이 중요하지 않은 데이터 전달에 사용</li>\n",
    "                <li>이전 페이지 버튼을 통한 이동 가능</li>\n",
    "            </ul>\n",
    "        </td>\n",
    "        <td>\n",
    "            <ul>\n",
    "                <li>보안이 필요한 로그인 정보 및 회원 정보 등의 전송에 사용</li>\n",
    "                <li>이전 페이지 버튼을 누르면 데이터를 다시 보내야 하는 경고 표시</li>\n",
    "            </ul>\n",
    "        </td>\n",
    "    </tr>\n",
    "</table>\n",
    "\n",
    "### 6.2 input 태그\n",
    "- 용자가 데이터를 입력할 수 있는 입력 타입을 지정\n",
    "- 종료 태그 없음\n",
    "- 속성 \n",
    "<table>\n",
    "    <tr>\n",
    "        <th>속성</th>\n",
    "        <th>설명</th>\n",
    "        <th>사용 조건</th>\n",
    "    </tr>\n",
    "    <tr>\n",
    "        <td>accept=\"파일유형\"</td>\n",
    "        <td>서버로 업로드되어 수용할 수 있는 파일의 형식을 지정</br>속성값 > 확장자 | audio/* | video/* | image/* |미디어타입</td>\n",
    "        <td>type=\"file\"인 경우만 사용</td>\n",
    "    </tr>\n",
    "    <tr>\n",
    "        <td>alt=\"텍스트\"</td>\n",
    "        <td></td>\n",
    "        <td></td>\n",
    "    </tr>    \n",
    "    <tr>\n",
    "        <td>height=\"픽셀\"</br>width=\"픽셀\"</td>\n",
    "        <td></td>\n",
    "        <td></td>\n",
    "    </tr>\n",
    "    <tr>\n",
    "        <td>src=\"URL\"</td>\n",
    "        <td></td>\n",
    "        <td></td>\n",
    "    </tr>\n",
    "    <tr>\n",
    "        <td>autocomplete=\"on|off\"</td>\n",
    "        <td></td>\n",
    "        <td></td>\n",
    "    </tr>\n",
    "    <tr>\n",
    "        <td>autofocus</td>\n",
    "        <td></td>\n",
    "        <td></td>\n",
    "    </tr>\n",
    "    <tr>\n",
    "        <td></td>\n",
    "        <td></td>\n",
    "        <td></td>\n",
    "    </tr>\n",
    "    <tr>\n",
    "        <td></td>\n",
    "        <td></td>\n",
    "        <td></td>\n",
    "    </tr>\n",
    "</table>"
   ],
   "metadata": {
    "collapsed": false,
    "pycharm": {
     "name": "#%% md\n"
    }
   }
  },
  {
   "cell_type": "markdown",
   "source": [
    "#### 6.2.1 기존에 사용했던 입력 타입\n",
    "##### (1) 텍스트 타입과 비밀번호 타입\n",
    "- type=\"text\" : 한 줄 짜리 짧은 텍스트를 입력\n",
    "- type=\"password\" : '.'으로 대체\n",
    "    - autofocus : 페이지가 로딩될 때 입력 타입에 자동으로 포커스를 지정\n",
    "    - name :\n",
    "    - size :\n",
    "    - maxlength\n",
    "    - value : 초기값\n",
    "    - disabled : 비활성화 \n",
    "    - placeholder : 참조문자열 \n",
    "    "
   ],
   "metadata": {
    "collapsed": false
   }
  },
  {
   "cell_type": "raw",
   "source": [
    "<form method=\"post\" name=\"form_test\" accept-charset=\"utf-8\" autocomplete=\"on\" enctype=\"utf-8\" novalidate target>\n",
    "    id : <input type=\"text\" name=\"id\" placeholder=\"고정 16자\" size=\"16\" autofocus> \n",
    "    pw : <input type=\"password\" name=\"pwd\" placeholder=\"최대 16자\" maxlength=\"16\">\n",
    "    part : <input type=\"text\" placeholder=\"edit admin\" name=\"part\" disabled>\n",
    "    <input type=\"submit\" value=\"login\">\n",
    "</form>\n",
    "</br>\n"
   ],
   "metadata": {
    "collapsed": false
   }
  },
  {
   "cell_type": "markdown",
   "source": [
    "<form method=\"post\" name=\"form_test\" accept-charset=\"utf-8\" autocomplete=\"on\" enctype=\"utf-8\" novalidate target>\n",
    "    id : <input type=\"text\" name=\"id\" placeholder=\"고정 16자\" size=\"16\" autofocus> &nbsp;\n",
    "    pw : <input type=\"password\" name=\"pwd\" placeholder=\"최대 16자\" maxlength=\"16\"> &nbsp;\n",
    "    part : <input type=\"text\" placeholder=\"edit admin\" name=\"part\" disabled> &nbsp;\n",
    "    <input type=\"submit\" value=\"login\">\n",
    "</form>\n",
    "</br>"
   ],
   "metadata": {
    "collapsed": false
   }
  },
  {
   "cell_type": "markdown",
   "source": [
    "##### (2) 라디오 버튼과 체크 박스\n",
    "- type = \"radio\" : 같은 그룹의 항목들에서 배타적 선택\n",
    "- type = \"checkbox\" : 여러 개의 항목의 동시 선택 가능\n",
    "- name : 이름이 같아야 동일 그룹\n",
    "- value : 서버로 전달되는 값\n",
    "- checked : 기본값"
   ],
   "metadata": {
    "collapsed": false,
    "pycharm": {
     "name": "#%% md\n"
    }
   }
  },
  {
   "cell_type": "raw",
   "source": [
    "<form>\n",
    "    <p>계약 : &nbsp;\n",
    "    <input type=\"radio\" name=\"contract\" value=\"mg\" checked>MG\n",
    "    <input type=\"radio\" name=\"contract\" value=\"adv_invest\">선투자\n",
    "    <input type=\"radio\" name=\"contract\" value=\"prepayment\">선급금\n",
    "    </p>\n",
    "    <p>상품 : &nbsp;\n",
    "    <input type=\"checkbox\" name=\"product\" value=\"catoon\" checked>만화\n",
    "    <input type=\"checkbox\" name=\"product\" value=\"novel\">소설\n",
    "    <input type=\"checkbox\" name=\"product\" value=\"book\">일반\n",
    "    </p>\n",
    "</form>\n"
   ],
   "metadata": {
    "collapsed": false
   }
  },
  {
   "cell_type": "markdown",
   "source": [
    "<form>\n",
    "    <p>계약 : &nbsp;\n",
    "    <input type=\"radio\" name=\"contract\" value=\"mg\" checked>MG\n",
    "    <input type=\"radio\" name=\"contract\" value=\"adv_invest\">선투자\n",
    "    <input type=\"radio\" name=\"contract\" value=\"prepayment\">선급금\n",
    "    </p>\n",
    "    <p>상품 : &nbsp;\n",
    "    <input type=\"checkbox\" name=\"product\" value=\"catoon\" checked>만화\n",
    "    <input type=\"checkbox\" name=\"product\" value=\"novel\">소설\n",
    "    <input type=\"checkbox\" name=\"product\" value=\"book\">일반\n",
    "    </p>\n",
    "</form>"
   ],
   "metadata": {
    "collapsed": false,
    "pycharm": {
     "name": "#%% md\n"
    }
   }
  },
  {
   "cell_type": "markdown",
   "source": [
    "##### (3) 제출 버튼과 초기화 버튼\n",
    "- type = \"submit\" : 지정한 서버의 페이지로 전송\n",
    "    - value = \"버튼명\"\n",
    "- type = \"reset\" : 입력한 내용을 모두 지워서 초기 상태로 만듦\n",
    "    - value = \"버튼명\"\n",
    "- autocomplete :  자동으로 입력값을 완성시켜주는 기능 \n",
    "    - on/off\n",
    "<form>\n",
    "</form>\n",
    "\n",
    "##### (4) 파일 선택 버튼과 이미지 버튼\n",
    "- type = \"file\" : 자신의 시스템에 있는 파일을 선택하는 버튼을 생성 \n",
    "    - accept = \"파일유형\" : 선택 가능한 파일의 유형을 지정 \n",
    "    - multiple : 하나 이상의 파일/값을 선택\n",
    "- type = \"image\" :  이미지를 제출 버튼으로 사용\n",
    "    - 기능적으로 submit 과 유사\n",
    "    - src(필수)\n",
    "    - width, height, alt 사용 가능\n",
    "<form>\n",
    "</form>\n",
    "\n",
    "##### (5) 일반 버튼\n",
    "- type = \"button\" : 클릭을 통해 명령을 수행 받기 위한 버튼\n",
    "    - form 내에서는 type=\"button\" 사용을 추천\n",
    "    - cf) tag button : 이미지 표현 가능\n",
    "<form>\n",
    "</form>\n",
    "\n",
    "#### 6.2.2 HTML5에 추가된 입력 타입\n",
    "\n",
    "##### (1) 검색어와 전화번호 입력\n",
    "- type = \"search\" : 검색어  \n",
    "- type = \"tel\" : 전화번호\n",
    "    - required : 반드시 입력해야 하는 항목을 지정\n",
    "    - title : 전역 속성, 해당 요소에 대한 추가 정보 제공 \n",
    "    - pattern : 입력 내용에 대해서 유효성 검사\n",
    "        - 정규 표현식 : 특정한 규칙을 가진 문자열을 표현하는데 사용하는 수식 \n",
    "<form>\n",
    "</form>\n",
    "\n",
    "##### (2) URL과 이메일 주소 입력\n",
    "- type = \"url\" : \n",
    "    - 자동으로 유효성 검사를 수행하여 형식에 맞지 않는 상태인 경우 경고 메시지 표시\n",
    "- type = \"email\" :\n",
    "    - multiple : 콤마로 구분된 여러 개의 이메일 주소 입력 \n",
    "    - 자동으로 유효성 검사를 수행하여 형식에 맞지 않는 상태인 경우 경고 메시지 표시\n",
    "<form>\n",
    "</form>\n",
    "\n",
    "##### (3) 숫자 입력\n",
    "- type = \"number\" \n",
    "    - 스핀 버튼을 가진 박스 형태로 입력\n",
    "    - min, max, value, step \n",
    "- type = \"range\"\n",
    "    - 슬라이더 형태로 표시\n",
    "    - min, max, value, step\n",
    "<form>\n",
    "</form>\n",
    "\n",
    "##### (4) 날짜와 시간 입력\n",
    "- type = \"date\" : 년, 월, 일 \n",
    "- type = \"month\" : 년, 월 \n",
    "- type = \"week\" : 년, 주차\n",
    "- type = \"time\" : 시, 분, 초\n",
    "- type = \"datetiem-local\" : 년,월,일,시간\n",
    "<form>\n",
    "</form>\n",
    "\n",
    "##### (5) 색상입력\n",
    "- type = \"color\"\n",
    "<form>\n",
    "    <input type=\"color\" name=\"color\">\n",
    "    <input type=\"submit\">\n",
    "</form>\n",
    "\n",
    "### 6.3 textarea 태그 및 select 태그\n",
    "#### 6.3.1 textrarea\n",
    "- textarea : 여러 줄에 해당하는 텍스트를 입력받을 때 사용\n",
    "    - name \n",
    "    - rows\n",
    "    - cols : 텍스트 영역의 너비(한 줄에 입력할 수 있는 글자 수)\n",
    "    - wrap = \"속성값\" : 폼으로 전송될 때 줄바꿈 표함 여부를 지정\n",
    "    - readonly : 텍스트 영역을 읽기 전용으로만 사용\n",
    "    \n",
    "#### 6.3.2 select\n",
    "- select : 드롭다둔 리스트를 만들 때 사용\n",
    "    - option : 태그의 하위 태그로서 목록에서 각 항목을 정의\n",
    "        - disabled\n",
    "        - label\n",
    "        - selected\n",
    "        - value\n",
    "    - name \n",
    "    - size : 한번에 보여지는 항목의 개수\n",
    "    - multiple : 중복 선택\n",
    "\n",
    "### 6.4 추가\n",
    "\n",
    "#### 6.4.1 datalist    \n",
    "- tag datalist : 포커스를 받으면 미리 입력한 옵션이 드롭다운 형태로 표시\n",
    "- input\n",
    "    - list\n",
    "- datalist \n",
    "    - id : input.list 와 datalist.id 를 연결 \n",
    "    - option\n",
    "        - value, lable\n",
    "        - disabled\n",
    "\n",
    "##### 6.4.1 optgroup \n",
    "- select 내에서 연관련 항목들을 그룹핑 하는 태그\n",
    "\n",
    "##### 6.4.2 fieldset, legend, label\n",
    "- fieldset : 폼 내의 관련된 요소들을 그룹핑\n",
    "- legend : 그룹핑되는 요소들에 대한 캡션을 사각형 테두리 선상에 표시\n",
    "- label : 마우스 사용성을 증대 \n",
    "    - for\n",
    "    - id  \n",
    "\n",
    "\n"
   ],
   "metadata": {
    "collapsed": false
   }
  }
 ],
 "metadata": {
  "kernelspec": {
   "display_name": "Python 3",
   "language": "python",
   "name": "python3"
  },
  "language_info": {
   "codemirror_mode": {
    "name": "ipython",
    "version": 2
   },
   "file_extension": ".py",
   "mimetype": "text/x-python",
   "name": "python",
   "nbconvert_exporter": "python",
   "pygments_lexer": "ipython2",
   "version": "2.7.6"
  },
  "pycharm": {
   "stem_cell": {
    "cell_type": "raw",
    "source": [],
    "metadata": {
     "collapsed": false
    }
   }
  }
 },
 "nbformat": 4,
 "nbformat_minor": 0
}